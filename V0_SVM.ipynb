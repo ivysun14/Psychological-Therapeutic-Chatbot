{
 "cells": [
  {
   "cell_type": "markdown",
   "metadata": {},
   "source": [
    "# V0: Mental State Classification using Linear-Kernel and RBF-Kernel SVM\n",
    "\n",
    "We are going to try to use the One-to-Rest approach, in which we train a SVM model that predicts for a single psychological symptom label (+1) versus any other symptoms (-1). For example, we could build a SVM model that predicts for whether the input client text will be diagnosed as having \"anxiety\" or \"non-anxiety\". We repeat this classification for all the symptoms, resulting in multiple SVM classifiers. "
   ]
  },
  {
   "cell_type": "code",
   "execution_count": 13,
   "metadata": {},
   "outputs": [],
   "source": [
    "import os\n",
    "import sys\n",
    "import json\n",
    "import numpy as np\n",
    "import matplotlib.pyplot as plt\n",
    "import collections\n",
    "\n",
    "from string import punctuation\n",
    "from sklearn.svm import SVC\n",
    "from sklearn.model_selection import StratifiedKFold\n",
    "from sklearn import metrics\n",
    "\n",
    "# set working directory\n",
    "os.chdir(\"/Users/junweisun/Documents/CS 229/final_project/Psychological-Therapeutic-Chatbot\")\n",
    "\n",
    "# set random seed for result reproducibility\n",
    "np.random.seed(1234)"
   ]
  },
  {
   "cell_type": "markdown",
   "metadata": {},
   "source": [
    "## Part I: Feature Extraction\n",
    "\n",
    "The goal of this part is to form a feature matrix with shape (n, d) from all client texts from **Counsling and Psychotherapy Transcripts, Volumn I**.\n",
    "\n",
    "- **n**: being the number of counsling/psychotherapy sessions. Here we treat each individual session as a single data point, because even for the same client between sessions, the individual's mental state might change.\n",
    "- **d**: being the number of unique words in the entirity of the volumn."
   ]
  },
  {
   "cell_type": "code",
   "execution_count": 14,
   "metadata": {},
   "outputs": [
    {
     "data": {
      "text/plain": [
       "1715"
      ]
     },
     "execution_count": 14,
     "metadata": {},
     "output_type": "execute_result"
    }
   ],
   "source": [
    "# return JSON object as a dictionary\n",
    "f = open('processed/meta.json')\n",
    "data = json.load(f)\n",
    "f.close()\n",
    "\n",
    "# there are 1715 sessions in the training data\n",
    "len(data)"
   ]
  },
  {
   "cell_type": "code",
   "execution_count": 15,
   "metadata": {},
   "outputs": [
    {
     "data": {
      "text/plain": [
       "{'file_name': '1004967238.txt',\n",
       " 'Abstract': \"Client is frustrated with his family members; he feels like there is a lack of communication, and he isn't being heard. He expects financial assistance with no strings attached, and he is frustrated that he can't get that from his parents.\",\n",
       " 'Client_Age': '21-30 years',\n",
       " 'Client_Gender': 'Male',\n",
       " 'Client_Marital_Status': 'Engaged',\n",
       " 'Previous_Session_ID': nan,\n",
       " 'Next_Session_ID': nan,\n",
       " 'Client_Sexual_Orientation': 'Heterosexual',\n",
       " 'CTIV_category': 'Family and relationships',\n",
       " 'Psyc_Subjects': 'Frustration; Depressive disorder',\n",
       " 'Symptoms': nan,\n",
       " 'Therapies': 'Psychotherapy',\n",
       " 'Therapist': 'Tamara Feldman (1972)',\n",
       " 'Race_of_Therapist': 'White',\n",
       " 'Race_of_Client': 'White',\n",
       " 'Client_Text': [\" So I just want to go back to last week, and just you know, continue talking about, you know the frustrating part about, you know me not being heard.  And my feelings just kind of being on the outside of where, you know, every time I bring up my concerns and my needs and my wants, and you know (voice breaks) my hopes. It always turns back to, well now you are hurting my feelings, my needs and my wants.' And I guess I'm kind of stuck at the crossroads there, where again, I don't, I guess this is part of the communication aspect of it. But I just get so frustrated and so down on myself because I don't really know what else I can do. You know, I feel like I'm putting a lot out there, just putting myself out there, just putting my feelings out there and letting them be known. To try to explain to them how I am feeling, how it does bother me. And to be honest, I think, you know, I get, I hesitate away from it because ultimately, you know the outcome's been the same for a long time. And that's always been one of negativity. \",\n",
       "  \" The guilt from hurting them, you know, to a point where I, it could have been prevented. It could have been prevented. And a hurt that I know what I'm doing is right, but the whole time it bothers me. The whole time, it affects, you know, how I feel as a person. It affects how I feel, you know, as, as, as a son. As someone who is supposed to be loved and support his parents. And here I am going against them. Here I am fighting them, and it just, it angers me that I don't, I don't have a solid grasp on where my relationship is with them. You know, I don't have a solid grasp on how to communicate with them. \",\n",
       "  \" No, and they haven't. That's the major difference, is they haven't. They've always, you know in my mind, they've always listened to me, they've always, you know nurtured me, and helped me and made me feel like I was, you know, worth something. You know, they were the ones that never talked back. They never diverted, you know pushed me to the side. They never criticized me about anything. They never, you know, made me feel guilty. You know, I, and, and, it's frustrating because I know they are bad. I know they are bad. I know the effects they can have on me. But yet, I still feel, safe with them, and I don't know why. I still feel like it's something I can rely on. From doing so in the past, that's never really hurt me. It's hurt me once when I overdosed, but not mentally. They've hurt my physically. And I can't, you know explain how the emotional side of doing the drugs and the feeling that it makes me. Because I do forget a lot of things. I do feel like I become, when I am in the zone, when I can, you know when I'm in full positivity. I'm in a place where everyone, you know, I only care about me. And I have no regards to the outside world or anybody else. \",\n",
       "  \" When I hurt them. When I, you know, my actions, you know, hurt people. And I feel like I'm disappointing them, because I, I shouldn't be doing that. I shouldn't be this negative towards things. I shouldn't, I shouldn't react, you know the way I react to things. I want to be that loving, caring person, who, who's there to help. Who's not masking, or putting on a smiley face for all the stuff that's bothering them. You know, the most disappointing part is I feel like I'm disappointing myself as, as a human being. I'm disappointing myself in making decisions that are rash and harsh. And after I make them, even though I know that they've already been done, that the guilt comes in. And instead of, you know, pursuing that, you know, I feel disappointed that I let them down. That I let them down. That I let people down, because people have high expectations of me. At least I feel that way, and I have high expectations of myself. And when I go and get tugged back, by whatever it is that I do, or whatever somebody else does, I just, I just beat myself up over it. \",\n",
       "  \" It's something but, the people that I, I've used this one before, it's like when you get all A's on your report card, right? And you come home, and the first thing you want to do is show your parents. And just, to show them like, how good you did, and that's how, you know you are a student, and you are very proud of yourself. Well, the two people that I want to show, and impress, never seem impressed. And that's the difficult part. You know. The two people who's opinion that I really want, and really desire, I cant get one. I mean I get one, but it's not, it's not a yay or a negative one. It's just a, Okay, and that's it. I mean it's great that I do have the support that I have, but there's also that other support that I, that I crave. That I just want. That I just need. And, I, I am running out of ways to ask for it. TO have them embrace it? Will the wedding be the ticket? I don't know. Do I have my hopes up? Yes. But I don't know, I don't understand how it can be, because I can't even have a conversation about it, without me getting irritated and them getting irritated because we have two different views of it. And that, and that's what really drives my up the wall. \",\n",
       "  \" I can, I absolutely could. And we talked about it. But then I, I felt bad because I know how much they want to participate in it. I know how much they want to be involved because it is their first child getting married. And then comes in to the guilt where I, I originally wanted that because then I could delegate what they could and couldn't do. You know, it was the control thing coming in to play. Where now, all of the sudden I have all of the control. But then, you know, my fiance' really wanted a couple of things and you know, unfortunately her mother said she'd help out but not to the extent. And you know, I kind of got, you know, persuaded to allowing them to participate. \",\n",
       "  \" When we made the decision to let them be a part and contribute to the wedding. We made it based on, pretty much, you know, what her mother wasn't going to be able to cover. I knew from the start my dad was adamant about having open bar. So we had that option. The other part with the food was, it was only going to be a couple things. You know, we were only going to get the basic packages, all affordable, you know that we could handle. However, we talked about our future, and not spending all our savings on the wedding. So we are looking at this as a gift, from my parents, as a you know, as a wedding present is to contribute to it. And the decision behind it was, well we'll let them control it, because that's pretty much what they care about. Because that's all they talk about is the food and the booze. So we said, we decided on this together that we would allow it to happen. However, you know, when we did let them do it, I didn't understand what was going to come after it. And that's when it started, you know the list started growing. \",\n",
       "  \" Well I knew that it was coming, and that was my one fear in letting them do it. Because I knew these other perks were coming. I knew, and I explained this to my fiance'. I knew all these threats were coming. You know, and ultimately she was the one who, you know, we talked and we agreed to it. But now that we're demanding the lists and the revisions and all the stuff, I can't get it. I'm getting pushed off to the side, it's being diverted and deflected. I've been asking for over a month, for a revised list. The last time I checked, they were only allowed to invite 80 to 85 people total. Well last time I checked it was up to 95. And I went off on them. I said, what is going on here? Why can't you respect the number that I put on the list. Why do you keep pushing the buttons, pushing the envelope. I mean ultimately I'm going to be the one who nixes people off their list. I'm going to be the one who says no, this person's not coming. But, I'm the one who's going to be challenged. I'm the one who's going to be like well you have to do this, who is going to be told, well you have to do this. You need to invite this one, because of this one. I don't need to do anything. \",\n",
       "  ' No, I agree. ',\n",
       "  \"  I hear you but there are a lot of strings attached, but they don't have to take every string. I don't have to take every string. \",\n",
       "  \" I have. Because I do want it to be a, a nice event. I do want it to be a beautiful event. You know, because I know what I can afford, and what the even will look like. As opposed to, with a little help, the event will be a little bit better than what I can provide. You know, and it's more of a, I want to please her, too. Because it's her dream. It's her dream wedding, and it's her dream venue and this is what she wants. However we are talking about the strings that are attached, you know. There are certain strings that I'm going to accept. There's actually a lot of them that I'm going to accept. But, the one thing I won't accept is when I tell the caterer, like when I'm doing all the negotiating with the caterer, we're picking the food, we're picked the hors d'oeuvres, we're picking the total number of people. You know, when I make those decisions, basically all I'm doing is using their money. And I want to keep them involved in what's going on. I want to let them know that this is part of the procedure. However, when I get them involved in the decision making, well, then, my mind gets three or four different decisions and I can't make a decision. I can't make a decision because I really like this. But then they want this too, so I want to have that but, I, I can't do this and then she wants this, and, and it's to the point where it's, you know, where do I compromise? \",\n",
       "  \" There is, because that's what I want to do. I want to have the resources to make her, you know to make her dream wedding. \",\n",
       "  \" I don't, not at this time no. \",\n",
       "  ' Oh yeah, ',\n",
       "  \" Well not money, I'm just talking about,  my dream wedding is a great place, with great people, and a great atmosphere, that's mine. Whether it's indoors, outdoors, whatever. But I kind of look at it as a fancy party. Where everybody dresses up and celebrates something big. Kind of, you know, that's my dream wedding. My dream wedding is, and I've had this since I got engaged, is like hosting a party at the White House. Is everybody's there for one reason, and that is to celebrate something. But everybody is formal, everybody is polite, and every body is kind of on the same page. They are all happy. That's my dream wedding. That's my dream wedding. Her dream wedding is fancy flowers, ton's of people, just not having any disasters. My parent's dream wedding, and this is, you know, the problem is, there is my dream wedding, there's her dream wedding, there's my parent's dream wedding and her mom's dream wedding.  So there's four dream weddings that we have to combine in to one. And unfortunately, I'm having a problem compromising, you know, with all these dreams. Because there's a lot of stuff in my dream wedding that my fiance' wants. But there's a lot of stuff that her mother wants, that I can't see, she can't see, but makes a stink over. There's a lot of stuff that my parent's want, that I can't see, she can't see, and they're making a stink over. But the problem is, her mom has financial ties to it, my parent's have financial ties to it, I have financial ties to it. So there's three separate incomes that are coming in to this, and everybody wants their piece of the pie. And I am beyond frustrated because I don't, (sighs) I'll compromise, but I don't want to compromise all the way. And that's, that's, that's the dilemma that I'm in. That's the decisions that you know, we're, I'm facing, she's facing, our parent's are facing. Because we're all, got our agendas. We all have certain things that we want to check off that we need to have. Well, the things I need to have are the things my parent's need to have too. But the things that I don't want are the things that my parent's need. And that's, that's where the guilt comes in, that's where the frustration comes in. That's where me trying to communicate about, you know, I know you want this and this, but I don't want this and this. Or I don't need this and this. Let's have a conversation as to why we need it. And the conversation starts and then after five minutes it dilutes. It goes away. \",\n",
       "  ' Yeah. ',\n",
       "  \" Exactly. It's how I feel, I feel like I get no where. I feel like my opinion doesn't matter. And, and, the whole, issue is, I just want to talk about it. It's a start for me, I just want to talk about it. I just want to have a conversation and listen without anybody yelling and screaming and tuning out. I just, and they've never done this since I can remember. They've never sat down and talked to me. They've never sat down and listened. It's always this is what you are going to do, if you don't like it, too fucking bad. Or it's a, why do you have to do it this way, why do you have to be difficult? Why can't you just suck it up and move on, and pretend that everything is okay? Or suck it up and stop causing this controversy. In a way, and I say this, about my mother, is that my mother doesn't like anything negative talked about her family or her children. But when I overdosed, when my brother got his DUI, when my other brother was, you know, in to drugs and all his credit card debt. She was pissed that everybody was talking about us and how bad we were. However, one of my cousins got busted for drugs, one of my cousins got busted for OUI, when my cousins all got arrested, she was the first one to talk smack to everybody. She was the first one to criticize them, like what the hell's wrong with them, blah, blah, blah, blah, blah. \",\n",
       "  \" Yeah, you know. I don't want to, I don't want to hurt you. But I also want to have a conversation with you, and when you go into a shell and start crying and start blaming you know, yourself for how I feel. There's no, I can't get through. Because then you just start beating yourself up and then I feel guilty as all hell, and I'm like, maybe I shouldn't have crossed that road. \",\n",
       "  \" No. No. That wasn't the intention. The intention was to get it off my chest, to have the conversation. To basically just, relay to them what I'm feeling. And how, we can work together to compromise and fix it. But instead it's, it turns out as an attack on them. Me attacking people. And then, again, it goes into the vicious cycle of running in the wheel. Where I feel like ah shit, now what did I do? You know? Now I have to revert and come back and, and, and apologize for what I said, and put on the smiley face again, that nothing's wrong. There's no issues that need to be tackled. And I can't do that anymore. I really can't. That's the most frustrating part about it. Everything is like that. It's like, it's repetitious, every time I go and revisit old wounds and bring up what I want to talk about and how I'm feeling and how I feel about this, that and the other person. It's always redirected to how they are feeling. And it's always to the point to divert it so the conversation ends so they don't have to deal with it. And I don't know what they are running away from. \",\n",
       "  \" Is it? It' pisses me off. \",\n",
       "  \" It's difficult, because I do feel like that, I don't feel like that at my house now. I feel like there is someone there with open arms willing to listen and talk things out. And at home, I always get diverted, at my parent's, I always get diverted. And the same thing happens, you know, with my sister. My sisters you know, has a lot of health issues, and my parent's aren't there emotionally to support her.  \",\n",
       "  ' I gotta check my schedule. ',\n",
       "  ' Thank you. ',\n",
       "  ' No, I have something on the eighth. ',\n",
       "  ' Yes exactly. ',\n",
       "  \" Okay. So we'll figure something out. \",\n",
       "  ' Perfect, thank you very much, Dr Feldman. ',\n",
       "  ' You too. '],\n",
       " 'Therapist_Text': [' The guilt that comes from inside? ',\n",
       "  \" Because those things won't disappoint you. \",\n",
       "  \" How do you feel like you're disappointing people? \",\n",
       "  \" Is it enough that you let them out and at least some people hear, even if it's not the people you would like to be hearing it? \",\n",
       "  \" Well you could have a way that you guy's could afford and not include your parents in the payments so you would not feel as obligated to them. \",\n",
       "  \" Well, I guess, can't they participate without paying for stuff? Like it sounds like you feel, I guess I'm not sure where you feel you are obligated. You are obligated to have them pay? \",\n",
       "  \" That's what I'm challenging you on. How could you not know that? You know them so well. \",\n",
       "  \" You're not going to get their money, and then get to do whatever you want with their money. No. \",\n",
       "  ' You either do what you want and not take their money, or take their money and take all the strings that are attached. ',\n",
       "  \" No, but I'm just, I'm just sort of pointing out that you have sort of set yourself up in this position. \",\n",
       "  \" Well, it seems like there is symbolism in this, where you said that the kind of wedding she wants, you can't provide but your parents can. Because the symbolism is you are feeling not enough or inadequate to provide something, and you feel like your parent's have extra power, or extra resources. I feel like there is something symbolic in it. \",\n",
       "  \" But you feel that you don't and had to borrow them from your parents. \",\n",
       "  \" But I think there is a lot of symbolism I don't think that it is just about money. I think there is a lot of symbolism in it. And the reality is, a dream wedding is two people who really love each other and create a future together. A dream wedding can be a cook-out, and I don't mean to be like, \",\n",
       "  \" But like, that's a dream wedding, but you are associating a dream wedding with a lot of money. \",\n",
       "  ' It sounds like in a way you feel like being held hostage. ',\n",
       "  \" You feel like you can't negotiate with the hostage takers, you just have to give in. \",\n",
       "  \" You don't want to be burdened with someone else's response. \",\n",
       "  \" And you don't feel like ultimately you were heard anyway. \",\n",
       "  ' It sounds like a catch point too. ',\n",
       "  \" You know, we are ready to stop in a moment, I know it's a hard place to stop. \",\n",
       "  \" Do you want to, I'm, I mean I'm here the next few weeks, just not on Tuesdays obviously. I'm happy to see you in the next few weeks if you'd like. \",\n",
       "  ' I just wanted to extend that to you. ',\n",
       "  ' When I, I still have you coming in on the eighth, is that still a possibility or is that when you start coaching? ',\n",
       "  \" Okay so you can't do that. So we need to e-mail anyway to get a schedule going. \",\n",
       "  \" Okay, so e-mail me, and let me know, I have, aside from the two Tue- I'm not here next Monday and Tuesday, and I'm not here the following Tuesday, New Years Day, but I'm here otherwise. \",\n",
       "  ' Okay. ',\n",
       "  ' My pleasure, thank you. Okay, have a good night. ']}"
      ]
     },
     "execution_count": 15,
     "metadata": {},
     "output_type": "execute_result"
    }
   ],
   "source": [
    "# observe a single counsling session, each session is itself stored as a python dictionary\n",
    "data['2086467']\n",
    "\n",
    "# we want to focus on two inputs:\n",
    "# -- Client_Text: this will be our training data input\n",
    "# -- Psyc_Subjects: this will be our training data label"
   ]
  },
  {
   "cell_type": "code",
   "execution_count": 16,
   "metadata": {},
   "outputs": [
    {
     "name": "stdout",
     "output_type": "stream",
     "text": [
      "['2099872', '2476112', '2476114']\n",
      "There are 1712 counsling sessions with proper client texts.\n",
      "The final input data has 1712 sessions within.\n"
     ]
    }
   ],
   "source": [
    "# There are 3 sessions with 'Client_Text' that cannot be processed, eliminate these from the input data\n",
    "count = 0\n",
    "session_to_delete = []\n",
    "\n",
    "for session in data:\n",
    "    if 'Client_Text' in data[session].keys():\n",
    "        count += 1\n",
    "    else:\n",
    "        session_to_delete.append(session)\n",
    "\n",
    "print(session_to_delete)\n",
    "\n",
    "for session in session_to_delete:\n",
    "    del data[session]\n",
    "\n",
    "print(f'There are {count} counsling sessions with proper client texts.')\n",
    "print(f'The final input data has {len(data)} sessions within.')"
   ]
  },
  {
   "cell_type": "code",
   "execution_count": 18,
   "metadata": {},
   "outputs": [],
   "source": [
    "# Take a single therapy session and eliminate punctions in client texts, output a list of words separated by white spaces.\n",
    "# Attention: this list of words is NOT unique!\n",
    "#\n",
    "def process_session(session_data):\n",
    "    \"\"\"\n",
    "    Inputs:\n",
    "        -- session_data: a dictionary representing all data from a single counsling/psychotherapy session (i.e one training data point)\n",
    "    \n",
    "    Return:\n",
    "        -- word_list: a list of words excluding punctuations present in the client text of this particular therapy session\n",
    "    \"\"\"\n",
    "    \n",
    "    word_list = []\n",
    "\n",
    "    num_conversation = len(session_data['Client_Text']) # how many lines has the client spoken\n",
    "    for i in range(num_conversation): # loop over each line\n",
    "        client_text = session_data['Client_Text'][i]\n",
    "        # eliminate punctuations\n",
    "        for c in punctuation:\n",
    "            client_text = client_text.replace(c, ' ')\n",
    "        client_text = client_text.lower().split()\n",
    "        word_list += client_text\n",
    "    \n",
    "    return word_list\n",
    "\n",
    "\n",
    "# Assemble a dictionary of unique words from client texts across ALL therapy sessions\n",
    "#\n",
    "def assemble_dictionary(json_obj):\n",
    "    \"\"\"\n",
    "    Inputs:\n",
    "        -- json_obj: a processed json file in the form of a dictionary\n",
    "    \n",
    "    Return:\n",
    "        -- word_dict: a dictionary of words assembled from all client texts across ALL sessions\n",
    "                this dictionary has (key, value) pairs representing (word, index):\n",
    "                    -- word: a unique word\n",
    "                    -- index: keeps track of how many unique words there are in the dictionary, NOT word frequency\n",
    "    \"\"\"\n",
    "\n",
    "    word_dict = {}\n",
    "    idx = 0\n",
    "\n",
    "    for session in json_obj:\n",
    "        # punctuation-eliminated words from client\n",
    "        words = process_session(json_obj[session])\n",
    "        for word in words:\n",
    "            if word not in word_dict:\n",
    "                word_dict[word] = idx\n",
    "                idx += 1\n",
    "    \n",
    "    return word_dict\n",
    "\n",
    "\n",
    "# Create a feature matrix that will be used as input to the training algorithm.\n",
    "#\n",
    "def generate_feature_matrix(json_obj, word_dict):\n",
    "    \"\"\"\n",
    "    Inputs:\n",
    "        -- json_obj: a processed json file in the form of a dictionary\n",
    "        -- word_dict: the dictionary of unique words outputted by assemble_dictionary()\n",
    "    \n",
    "    Return:\n",
    "        -- feature_matrix: a 2D numpy array of shape (n, d)\n",
    "                Each row is a feature vector with word frequency, indicating how many times a dictionary word has appeared in a session:\n",
    "                    -- n: each line represent a single therapy session\n",
    "                    -- d: each column represent a unique word from the 'Client_Text' section of the json file\n",
    "    \"\"\"\n",
    "\n",
    "    n = len(json_obj)\n",
    "    d = len(word_dict)\n",
    "    feature_matrix = np.zeros((n, d))\n",
    "\n",
    "    data_point = 0\n",
    "    for session in json_obj:\n",
    "        words = process_session(json_obj[session]) # a list of non-unique words from a single session\n",
    "        counter = collections.Counter(words) # a dictionary of unique words with frequency for the session\n",
    "        for word, frequency in counter.items():\n",
    "            if word in word_dict.keys():\n",
    "                value = word_dict[word]\n",
    "                feature_matrix[data_point][value] += frequency\n",
    "        data_point += 1\n",
    "    \n",
    "    return feature_matrix"
   ]
  },
  {
   "cell_type": "markdown",
   "metadata": {},
   "source": [
    "We now generate the feature matrix that will be used as input to train the SVM classifier, as well as the unique words dictionary."
   ]
  },
  {
   "cell_type": "code",
   "execution_count": 19,
   "metadata": {},
   "outputs": [
    {
     "name": "stdout",
     "output_type": "stream",
     "text": [
      "The dimension of the feature matrix is (1712, 34641)\n",
      "A single feature vector inside the feature matrix looks like:\n",
      " [35. 95.  7. ...  0.  0.  0.]\n"
     ]
    }
   ],
   "source": [
    "unique_words_dictionary = assemble_dictionary(data)\n",
    "feature_matrix = generate_feature_matrix(data, unique_words_dictionary)\n",
    "\n",
    "print(f'The dimension of the feature matrix is {feature_matrix.shape}')\n",
    "print(f'A single feature vector inside the feature matrix looks like:\\n {feature_matrix[0]}')"
   ]
  },
  {
   "cell_type": "code",
   "execution_count": 20,
   "metadata": {},
   "outputs": [],
   "source": [
    "np.savetxt(\"../feature_matrix.txt\", feature_matrix)\n",
    "\n",
    "# create json object from dictionary\n",
    "json = json.dumps(unique_words_dictionary)\n",
    "f = open(\"unique_words_dictionary.json\", \"w\")\n",
    "f.write(json)\n",
    "f.close()"
   ]
  },
  {
   "cell_type": "markdown",
   "metadata": {},
   "source": [
    "## Part II: Import Label Matrix\n",
    "\n",
    "The goal of this part is to construct a label matrix for supervised machine learning method. Each row of the label matrix corresponds to a session (same ordering as feature matrix), and each column represents a symptom. A number of 1 indicates that the symptom is diagnosed, whereas a number of 0 represents no such symptom found."
   ]
  },
  {
   "cell_type": "code",
   "execution_count": 22,
   "metadata": {},
   "outputs": [
    {
     "data": {
      "text/plain": [
       "array([[35., 95.,  7., ...,  0.,  0.,  0.],\n",
       "       [20., 93.,  2., ...,  0.,  0.,  0.],\n",
       "       [28., 74.,  6., ...,  0.,  0.,  0.],\n",
       "       ...,\n",
       "       [13., 48.,  0., ...,  1., 10.,  1.],\n",
       "       [ 0.,  0.,  0., ...,  0.,  0.,  0.],\n",
       "       [ 0.,  0.,  0., ...,  0.,  0.,  0.]])"
      ]
     },
     "execution_count": 22,
     "metadata": {},
     "output_type": "execute_result"
    }
   ],
   "source": [
    "feature_matrix = np.loadtxt(\"../feature_matrix.txt\")\n",
    "feature_matrix"
   ]
  },
  {
   "cell_type": "code",
   "execution_count": 23,
   "metadata": {},
   "outputs": [
    {
     "data": {
      "text/plain": [
       "array([[1., 1., 0., ..., 0., 0., 0.],\n",
       "       [0., 0., 1., ..., 0., 0., 0.],\n",
       "       [0., 0., 1., ..., 0., 0., 0.],\n",
       "       ...,\n",
       "       [0., 0., 0., ..., 0., 0., 0.],\n",
       "       [0., 1., 1., ..., 0., 0., 0.],\n",
       "       [0., 0., 0., ..., 0., 0., 0.]])"
      ]
     },
     "execution_count": 23,
     "metadata": {},
     "output_type": "execute_result"
    }
   ],
   "source": [
    "label_matrix = np.loadtxt(\"label_matrix.txt\")\n",
    "label_matrix"
   ]
  },
  {
   "cell_type": "code",
   "execution_count": 24,
   "metadata": {},
   "outputs": [
    {
     "name": "stdout",
     "output_type": "stream",
     "text": [
      "The shape of the feature matrix is (1712, 34641)\n",
      "The (prior) shape of the label matrix is (1715, 65)\n",
      "The shape of the label matrix is (1712, 65)\n"
     ]
    }
   ],
   "source": [
    "# observe correspondance between feature matrix and label matrix\n",
    "print(f\"The shape of the feature matrix is {feature_matrix.shape}\")\n",
    "print(f\"The (prior) shape of the label matrix is {label_matrix.shape}\")\n",
    "\n",
    "label_matrix_del = np.delete(label_matrix, [1429, 1710, 1711], 0)\n",
    "print(f\"The shape of the label matrix is {label_matrix_del.shape}\")\n"
   ]
  },
  {
   "cell_type": "code",
   "execution_count": 25,
   "metadata": {},
   "outputs": [
    {
     "data": {
      "text/plain": [
       "{'Apathy': 0,\n",
       " 'Frustration': 1,\n",
       " 'Anxiety': 2,\n",
       " 'Anger': 3,\n",
       " 'Danger to self': 4,\n",
       " 'Sadness': 5,\n",
       " 'Low self-esteem': 6,\n",
       " 'Crying': 7,\n",
       " 'Obsessive behavior': 8,\n",
       " 'Insomnia': 9,\n",
       " 'Irritability': 10,\n",
       " 'Fatigue': 11,\n",
       " 'Hyperactivity': 12,\n",
       " 'Restlessness': 13,\n",
       " 'Depression (emotion)': 14,\n",
       " 'Ambivalence': 15,\n",
       " 'Shame': 16,\n",
       " 'Suicidal ideation': 17,\n",
       " 'Panic': 18,\n",
       " 'Self-harm': 19,\n",
       " 'Moodiness': 20,\n",
       " 'Nightmares': 21,\n",
       " 'Resentment': 22,\n",
       " 'Compulsive behavior': 23,\n",
       " 'Social inhibition': 24,\n",
       " 'Confusion': 25,\n",
       " 'Fearfulness': 26,\n",
       " 'Guilt': 27,\n",
       " 'Disorganized thoughts': 28,\n",
       " 'Detached behavior': 29,\n",
       " 'Fantasizing': 30,\n",
       " 'Weight gain': 31,\n",
       " 'Suicidal behavior': 32,\n",
       " 'Dissociation': 33,\n",
       " 'Sexual dysfunction': 34,\n",
       " 'Weight loss': 35,\n",
       " 'Paranoia': 36,\n",
       " 'Racing thoughts': 37,\n",
       " 'Apnea': 38,\n",
       " 'Problems concentrating': 39,\n",
       " 'Mania': 40,\n",
       " 'Avoidance': 41,\n",
       " 'Itching': 42,\n",
       " 'Indecisiveness': 43,\n",
       " 'Tics': 44,\n",
       " 'Severe sensitivity': 45,\n",
       " 'Numbness': 46,\n",
       " 'Forgetfulness': 47,\n",
       " 'Acting out': 48,\n",
       " 'Inattentiveness': 49,\n",
       " 'Withdrawal sickness': 50,\n",
       " 'General pain': 51,\n",
       " 'Vertigo': 52,\n",
       " 'Chronic pain': 53,\n",
       " 'Tooth pain': 54,\n",
       " 'Peacefulness': 55,\n",
       " 'Aggression': 56,\n",
       " 'Despair': 57,\n",
       " 'Withdrawn': 58,\n",
       " 'Cutting': 59,\n",
       " 'Self-mutilation': 60,\n",
       " 'Hyperventilation': 61,\n",
       " 'Isolation': 62,\n",
       " 'Burnout': 63,\n",
       " 'Personality changes': 64}"
      ]
     },
     "execution_count": 25,
     "metadata": {},
     "output_type": "execute_result"
    }
   ],
   "source": [
    "f = open('symptom_dictionary')\n",
    "symptom = json.load(f)\n",
    "f.close()\n",
    "# observe label dictionary\n",
    "symptom"
   ]
  },
  {
   "cell_type": "markdown",
   "metadata": {},
   "source": [
    "## Part III: K-Fold CV\n",
    "\n",
    "### Anxiety\n",
    "\n",
    "The goal of this part is to find optimal parameters for the linear-kernel SVM and RBF-kernel SVM. We can perform K-fold cross validations and find average values of a couple performance metrics to determine which or which combinations of the hyperparameters are the best in this specific project.\n"
   ]
  },
  {
   "cell_type": "code",
   "execution_count": 26,
   "metadata": {},
   "outputs": [],
   "source": [
    "# This function can calculate six different performance metrics for the predicted output. These are\n",
    "# accuracy, F1-Score, AUROC, precision, sensitivity, and specificity.\n",
    "#\n",
    "def performance(y_true, y_pred, metric=\"accuracy\"):\n",
    "    \"\"\"\n",
    "    Inputs:\n",
    "    @y_true: true labels of each example, of shape (n, )\n",
    "    @y_pred: (continuous-valued) predicted labels of each example, of shape (n, )\n",
    "    @metric: a string specifying one of the six performance measures.\n",
    "             'accuracy', 'f1_score', 'auroc', 'precision', 'sensitivity', 'specificity'\n",
    "\n",
    "    @return: a float representing performance score\n",
    "    \"\"\"\n",
    "    # map continuous-valued predictions to binary labels\n",
    "    y_label = np.sign(y_pred)\n",
    "    # if a prediction is 0, treat that as 1\n",
    "    y_label[y_label == 0] = 1\n",
    "\n",
    "    # compute performance\n",
    "    if metric == \"accuracy\":\n",
    "      score = metrics.accuracy_score(y_true, y_label)\n",
    "    elif metric == \"f1_score\":\n",
    "      score = metrics.f1_score(y_true, y_label)\n",
    "    elif metric == \"auroc\":\n",
    "      score = metrics.roc_auc_score(y_true, y_label)\n",
    "    elif metric == \"precision\":\n",
    "      score = metrics.precision_score(y_true, y_label)\n",
    "    else:\n",
    "      mcm = metrics.confusion_matrix(y_true, y_label)\n",
    "      tn, fp, fn, tp = mcm.ravel()\n",
    "      if metric == \"sensitivity\":  # true positive rate\n",
    "        score = tp / (tp + fn)\n",
    "      if metric == \"specificity\":  # true negative rate\n",
    "        score = tn / (tn + fp)\n",
    "\n",
    "    return score\n",
    "\n",
    "\n",
    "# This function takes in a classifier, splits the data X and labels y into k-folds, perform k-fold cross validations,\n",
    "# and calculates all specified performance metrics for the classifier by averaging the performance scores across folds.\n",
    "#\n",
    "def cv_performance(clf, X, y, kf, metric):\n",
    "    \"\"\"\n",
    "    Inputs:\n",
    "    @clf: a SVM classifier, aka. an instance of SVC\n",
    "    @X: the feature matrix we constructed with shape (n, d)\n",
    "    @y: the labels of each data point with shape (n,), note this is binary labels {1,-1}\n",
    "    @kf: an instance of cross_validation.KFold or cross_validation.StratifiedKFold\n",
    "    @metric: a list of strings specifying the performance metrics to calculate for\n",
    "\n",
    "    @return: a numpy array of floats representing the average CV performance across k folds for all metrics\n",
    "    \"\"\"\n",
    "\n",
    "    metric_score = np.zeros((len(metric), kf.get_n_splits(X, y)))\n",
    "    counter = 0\n",
    "\n",
    "    # split data based on cross validation kf and loop for k times (aka k folds)\n",
    "    for train_index, test_index in kf.split(X, y):\n",
    "        X_train, X_test = X[train_index], X[test_index]\n",
    "        y_train, y_test = y[train_index], y[test_index]\n",
    "\n",
    "        # train SVM\n",
    "        clf.fit(X_train, y_train)\n",
    "        # predict using trained classifier\n",
    "        y_pred = clf.decision_function(X_test)\n",
    "        # metric score\n",
    "        for j in range(len(metric)):\n",
    "          metric_score[j][counter] = performance(y_test, y_pred, metric[j])\n",
    "        counter += 1\n",
    "\n",
    "    score = np.average(metric_score, axis=1)\n",
    "\n",
    "    return score\n",
    "\n",
    "\n",
    "# This function calls cv_performance and performs hyperparameter selection for the linear-kernel SVM\n",
    "# by selecting the hyperparameter that maximizes each metric's average performance score across k-fold CV.\n",
    "#\n",
    "def select_param_linear(X, y, kf, metric):\n",
    "    \"\"\"\n",
    "    Inputs:\n",
    "    @X: the feature matrix we constructed with shape (n, d)\n",
    "    @y: the labels of each data point with shape (n,), note this is binary labels {1,-1}\n",
    "    @kf: an instance of cross_validation.KFold or cross_validation.StratifiedKFold\n",
    "    @metric: a list of strings specifying the performance metrics to calculate for\n",
    "\n",
    "    @return: a list of floats representing the optimal hyperparameter values for linear-kernel SVM based on each metric\n",
    "    \"\"\"\n",
    "\n",
    "    print('Linear SVM Hyperparameter Selection based on ' + (', '.join(metric)) + ':')\n",
    "\n",
    "    # pre-define a range of C values, C here is the hyperparameter used in linear-kernel SVM\n",
    "    C_range = 10.0 ** np.arange(-3, 3)\n",
    "\n",
    "    # train linear-kernel SVM using different C values and calculate average k-fold cross validation score\n",
    "    c_score_T = np.zeros((len(C_range), len(metric)))\n",
    "\n",
    "    for i in range(len(C_range)):\n",
    "      clf = SVC(kernel='linear', C=C_range[i])  # define SVM instance\n",
    "      c_score_T[i] = cv_performance(clf, X, y, kf, metric)\n",
    "  \n",
    "    # transpose the matrix\n",
    "    c_score = c_score_T.T\n",
    "\n",
    "    # obtain best score across c values for each metric\n",
    "    best_index = np.argmax(c_score, axis=1)\n",
    "    best_C = np.zeros(len(metric))\n",
    "    for i in range(len(best_index)):\n",
    "      best_C[i] = C_range[best_index[i]]\n",
    "      print(f\"For {metric[i]}, cv scores across different parameters are {c_score[i]}\")\n",
    "\n",
    "    np.savetxt(\"linear_SVM_c_score_matrix.txt\", c_score)\n",
    "    np.savetxt(\"linear_SVM_optimal_params.txt\", best_C)\n",
    "\n",
    "    return best_C\n",
    "\n",
    "# Similar to above, this function calls cv_performance and performs hyperparameter selection for the RBF-kernel SVM\n",
    "# by selecting the hyperparameter that maximizes each pairwise metric's average performance score across k-fold CV.\n",
    "#\n",
    "def select_param_rbf(X, y, kf, metric):\n",
    "    \"\"\"\n",
    "    Inputs:\n",
    "    @X: the feature matrix we constructed with shape (n, d)\n",
    "    @y: the labels of each data point with shape (n,), note this is binary labels {1,-1}\n",
    "    @kf: an instance of cross_validation.KFold or cross_validation.StratifiedKFold\n",
    "    @metric: a list of strings specifying the performance metrics to calculate for\n",
    "    \n",
    "    @returns: a numpy array of shape (len(metric), 2) with each row represents a tuple of floats (C, gamma)\n",
    "              which are the optimal hyperparameters for RBF-kernel SVM for each metric\n",
    "    \"\"\"\n",
    "\n",
    "    print('\\nRBF SVM Hyperparameter Selection based on ' + (', '.join(metric)) + ':')\n",
    "\n",
    "    # pre-define a range of gamma and C values, which are both hyperparameters used in RBF-kernel SVM\n",
    "    # construct a grid to make sure we test every single possible combinations of the two hyperparameters\n",
    "    C_range = 10.0 ** np.arange(-3, 4)\n",
    "    gamma_range = 10.0 ** np.arange(-5, 2)\n",
    "    tuple_score_T = np.zeros((len(C_range)*len(gamma_range), len(metric)))\n",
    "    tuple_dict = {}\n",
    "\n",
    "    counter = 0\n",
    "    # train a SVM classifier using some values of the hyperparameters and calculate average performance score\n",
    "    for i in range(len(C_range)):\n",
    "      for j in range(len(gamma_range)):\n",
    "        clf = SVC(kernel='rbf', C=C_range[i], gamma=gamma_range[j])  # define SVM instance\n",
    "        evaluate_row_num = i+j+counter*(len(gamma_range)-1)\n",
    "        tuple_score_T[evaluate_row_num] = cv_performance(clf, X, y, kf, metric)\n",
    "        tuple_dict[str(evaluate_row_num)] = np.array([C_range[i], gamma_range[j]])\n",
    "      counter += 1\n",
    "\n",
    "    # transpose the matrix\n",
    "    tuple_score = tuple_score_T.T\n",
    "    np.savetxt(\"RBF_SVM_tuple_score_matrix.txt\", tuple_score)\n",
    "\n",
    "    # obtain best score across all pairwise (c, gamma) values for each metric\n",
    "    best_index = np.argmax(tuple_score, axis=1)\n",
    "    best_tuple = np.zeros((len(metric), 2))\n",
    "    for z in range(len(best_index)):\n",
    "      best_tuple[z] = tuple_dict[str(best_index[z])]\n",
    "      print(f\"For {metric[z]}, the best cv scores across different parameters is {tuple_score[z][best_index[z]]}\")\n",
    "\n",
    "    np.savetxt(\"RBF_SVM_optimal_params.txt\", best_tuple)\n",
    "\n",
    "    return best_tuple\n",
    "\n",
    "\n",
    "# Finally, this is rather a trivial function that outputs the performance score of the final chosen models.\n",
    "#\n",
    "def performance_test(clf, X, y, metric=\"accuracy\"):\n",
    "    \"\"\"\n",
    "    Inputs:\n",
    "    @clf: a TRAINED SVM classifier that has already been fitted to the data.\n",
    "    @X: the feature matrix we constructed with shape (n, d)\n",
    "    @y: the labels of each data point with shape (n,), note this is binary labels {1,-1}\n",
    "    @metric: a string specifying the performance metric to calculate for\n",
    "\n",
    "    @return: a float representing the performance score of the classifier\n",
    "    \"\"\"\n",
    "\n",
    "    y_pred = clf.decision_function(X)\n",
    "    score = performance(y, y_pred, metric)\n",
    "\n",
    "    return score\n",
    "\n",
    "\n",
    "# This function extracts the corresponding label column from the label matrix provided the symptom name and\n",
    "# the symptom dictionary, and convert the labels from {0,1} to {-1,1}.\n",
    "#\n",
    "def extract_symptom_labels(y, symptom_dict, symptom=\"Anxiety\"):\n",
    "    \"\"\"\n",
    "    Inputs:\n",
    "    @y: the label matrix with labels {0, 1}\n",
    "    @symptom_dict: the symptom dictionary\n",
    "    @symptom: the class / symptom we wish to build one-to-rest SVM classifier on, default \"Anxiety\"\n",
    "\n",
    "    @return: a float representing the performance score of the classifier\n",
    "    \"\"\"\n",
    "    \n",
    "    index = symptom_dict[symptom]\n",
    "    extract_label = y[:, index]\n",
    "    extract_label[extract_label == 0] = -1\n",
    "    return extract_label\n"
   ]
  },
  {
   "cell_type": "markdown",
   "metadata": {},
   "source": [
    "We now use 5-fold cross validation to obtain optimal hyperparameters."
   ]
  },
  {
   "cell_type": "code",
   "execution_count": 30,
   "metadata": {},
   "outputs": [
    {
     "name": "stdout",
     "output_type": "stream",
     "text": [
      "A single (neg) training example looks like: [35. 95.  7. ...  0.  0.  0.]\n",
      "The corresponding label for that example looks like: -1.0\n",
      "A single (pos) training example looks like: [20. 93.  2. ...  0.  0.  0.]\n",
      "The corresponding label for that example looks like: 1.0\n"
     ]
    }
   ],
   "source": [
    "# define metric list: total 6 metrics we will check\n",
    "metric_list = [\"accuracy\", \"f1_score\", \"auroc\",\n",
    "               \"precision\", \"sensitivity\", \"specificity\"]\n",
    "\n",
    "# since we are focusing on anxiety, extract y as the anxiety labels\n",
    "X = feature_matrix\n",
    "y = extract_symptom_labels(label_matrix_del, symptom, symptom=\"Anxiety\")\n",
    "\n",
    "# we use the first 1612 examples as the training set, and leave the last 100 examples as the test set for now\n",
    "X_training = X[0:1611]\n",
    "y_training = y[0:1611]\n",
    "X_test = X[1612:1711]\n",
    "y_test = y[1612:1711]\n",
    "\n",
    "# perform stratified k-fold, in which the folds are made by preserving the percentage of samples for each class\n",
    "kf = StratifiedKFold(n_splits=5)\n",
    "\n",
    "print(f\"A single (neg) training example looks like: {X[0]}\")\n",
    "print(f\"The corresponding label for that example looks like: {y[0]}\")\n",
    "\n",
    "print(f\"A single (pos) training example looks like: {X[1]}\")\n",
    "print(f\"The corresponding label for that example looks like: {y[1]}\")\n"
   ]
  },
  {
   "cell_type": "markdown",
   "metadata": {},
   "source": [
    "Linear-Kernel SVM Hyperparameter Tuning"
   ]
  },
  {
   "cell_type": "code",
   "execution_count": 31,
   "metadata": {},
   "outputs": [
    {
     "name": "stdout",
     "output_type": "stream",
     "text": [
      "Linear SVM Hyperparameter Selection based on accuracy, f1_score, auroc, precision, sensitivity, specificity:\n",
      "For accuracy, cv scores across different parameters are [0.46673846 0.485347   0.48347403 0.48595081 0.48595081 0.48595081]\n",
      "For f1_score, cv scores across different parameters are [0.43521061 0.46811862 0.46414919 0.46560926 0.46560926 0.46560926]\n",
      "For auroc, cv scores across different parameters are [0.46871167 0.48648141 0.48471227 0.48727637 0.48727637 0.48727637]\n",
      "For precision, cv scores across different parameters are [0.47806818 0.49338259 0.49078888 0.49339217 0.49339217 0.49339217]\n",
      "For sensitivity, cv scores across different parameters are [0.42024385 0.45972874 0.45491667 0.45491667 0.45491667 0.45491667]\n",
      "For specificity, cv scores across different parameters are [0.51717949 0.51323408 0.51450786 0.51963606 0.51963606 0.51963606]\n",
      "Optimal C for each metric is [1.   0.01 1.   1.   0.01 1.  ]\n"
     ]
    }
   ],
   "source": [
    "# for each metric, select optimal hyperparameter for linear-kernel SVM\n",
    "optimalC_each_metric = select_param_linear(X_training, y_training, kf, metric=metric_list)\n",
    "print(f\"Optimal C for each metric is {optimalC_each_metric}\")"
   ]
  },
  {
   "cell_type": "code",
   "execution_count": 32,
   "metadata": {},
   "outputs": [
    {
     "name": "stdout",
     "output_type": "stream",
     "text": [
      "\n",
      "RBF SVM Hyperparameter Selection based on accuracy, f1_score, auroc, precision, sensitivity, specificity:\n",
      "For accuracy, the best cv scores across different parameters is 0.5263484798953906\n",
      "For f1_score, the best cv scores across different parameters is 0.6820962140752576\n",
      "For auroc, the best cv scores across different parameters is 0.5268384317197767\n",
      "For precision, the best cv scores across different parameters is 0.5489605102924375\n",
      "For sensitivity, the best cv scores across different parameters is 1.0\n",
      "For specificity, the best cv scores across different parameters is 0.5425806451612903\n",
      "Optimal C and gamma for each metric is [[1.e-01 1.e-05]\n",
      " [1.e+00 1.e-01]\n",
      " [1.e-01 1.e-05]\n",
      " [1.e-01 1.e-05]\n",
      " [1.e-03 1.e-05]\n",
      " [1.e+00 1.e-05]]\n"
     ]
    }
   ],
   "source": [
    "# for each metric, select optimal hyperparameter for RBF-kernel SVM\n",
    "optimalTuple_each_metric = select_param_rbf(X_training, y_training, kf, metric=metric_list)\n",
    "print(f\"Optimal C and gamma for each metric is {optimalTuple_each_metric}\")"
   ]
  },
  {
   "cell_type": "markdown",
   "metadata": {},
   "source": [
    "## Part IV: Prediction"
   ]
  },
  {
   "cell_type": "code",
   "execution_count": 33,
   "metadata": {},
   "outputs": [
    {
     "name": "stdout",
     "output_type": "stream",
     "text": [
      "For the linear-kernel SVM, final metric scores are: [0.64646465 0.18604651 0.48644578 0.14814815 0.25       0.72289157]\n",
      "For the RBF-kernel SVM, final metric scores are: [0.31313131 0.24444444 0.46423193 0.14864865 0.6875     0.24096386]\n",
      "\n",
      "End of project.\n"
     ]
    }
   ],
   "source": [
    "# train linear-kernel SVM and RBF-kernel SVM with selected, optimal hyperparameters\n",
    "linear_clf = SVC(kernel='linear', C=1)\n",
    "linear_clf = linear_clf.fit(X_training, y_training)\n",
    "\n",
    "rbf_clf = SVC(kernel='rbf', C=0.1, gamma=0.00001)\n",
    "rbf_clf = rbf_clf.fit(X_training, y_training)\n",
    "\n",
    "# test the performance of these two classifiers on the 100 subsetted transcripts\n",
    "linear_metric_score = np.zeros(len(metric_list))\n",
    "rbf_metric_score = np.zeros(len(metric_list))\n",
    "\n",
    "for i in range(len(metric_list)):\n",
    "    linear_metric_score[i] = performance_test(\n",
    "        linear_clf, X_test, y_test, metric_list[i])\n",
    "    rbf_metric_score[i] = performance_test(\n",
    "        rbf_clf, X_test, y_test, metric_list[i])\n",
    "\n",
    "print(f\"For the linear-kernel SVM, final metric scores are: {linear_metric_score}\")\n",
    "print(f\"For the RBF-kernel SVM, final metric scores are: {rbf_metric_score}\\n\")\n",
    "print(\"End of project.\")\n"
   ]
  }
 ],
 "metadata": {
  "kernelspec": {
   "display_name": "Python 3",
   "language": "python",
   "name": "python3"
  },
  "language_info": {
   "codemirror_mode": {
    "name": "ipython",
    "version": 3
   },
   "file_extension": ".py",
   "mimetype": "text/x-python",
   "name": "python",
   "nbconvert_exporter": "python",
   "pygments_lexer": "ipython3",
   "version": "3.10.2"
  }
 },
 "nbformat": 4,
 "nbformat_minor": 2
}
